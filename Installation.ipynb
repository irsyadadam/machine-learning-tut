{
 "metadata": {
  "language_info": {
   "codemirror_mode": {
    "name": "ipython",
    "version": 3
   },
   "file_extension": ".py",
   "mimetype": "text/x-python",
   "name": "python",
   "nbconvert_exporter": "python",
   "pygments_lexer": "ipython3",
   "version": "3.8.3"
  },
  "orig_nbformat": 4,
  "kernelspec": {
   "name": "python3",
   "display_name": "Python 3.8.3 64-bit ('base': conda)"
  },
  "interpreter": {
   "hash": "da9952b49cbe8d96f4cd94137675a40eefb933987d5b5eb67fec8d17888ef93b"
  }
 },
 "nbformat": 4,
 "nbformat_minor": 2,
 "cells": [
  {
   "source": [
    "##install cuda according to these instructions:\n",
    "#https://www.youtube.com/watch?v=StH5YNrY0mE\n",
    "##Note: rename environment instead of gputest"
   ],
   "cell_type": "code",
   "metadata": {},
   "execution_count": null,
   "outputs": []
  },
  {
   "source": [
    "##enable vscode to use the environment\n",
    "##upload environment path into \n",
    "#../.vscode/settings.json"
   ],
   "cell_type": "code",
   "metadata": {},
   "execution_count": null,
   "outputs": []
  },
  {
   "cell_type": "code",
   "execution_count": 1,
   "metadata": {},
   "outputs": [
    {
     "output_type": "stream",
     "name": "stdout",
     "text": [
      "Collecting keras\n  Downloading Keras-2.4.3-py2.py3-none-any.whl (36 kB)\nRequirement already satisfied: pyyaml in c:\\users\\irsya\\anaconda3\\lib\\site-packages (from keras) (5.3.1)\nRequirement already satisfied: h5py in c:\\users\\irsya\\anaconda3\\lib\\site-packages (from keras) (2.10.0)\nRequirement already satisfied: scipy>=0.14 in c:\\users\\irsya\\anaconda3\\lib\\site-packages (from keras) (1.5.0)\nRequirement already satisfied: numpy>=1.9.1 in c:\\users\\irsya\\anaconda3\\lib\\site-packages (from keras) (1.18.5)\nRequirement already satisfied: six in c:\\users\\irsya\\anaconda3\\lib\\site-packages (from h5py->keras) (1.15.0)\nInstalling collected packages: keras\nSuccessfully installed keras-2.4.3\nNote: you may need to restart the kernel to use updated packages.\n"
     ]
    }
   ],
   "source": [
    "##installing keras\n",
    "#pip install keras\n",
    "#pip install jupyter lab"
   ]
  },
  {
   "cell_type": "code",
   "execution_count": 1,
   "metadata": {},
   "outputs": [
    {
     "output_type": "stream",
     "name": "stdout",
     "text": [
      "WARNING:tensorflow:From <ipython-input-1-f9e49274c967>:3: is_gpu_available (from tensorflow.python.framework.test_util) is deprecated and will be removed in a future version.\n",
      "Instructions for updating:\n",
      "Use `tf.config.list_physical_devices('GPU')` instead.\n",
      "True\n",
      "True\n"
     ]
    }
   ],
   "source": [
    "#check if existing environment has tf on there\n",
    "import tensorflow as tf\n",
    "print(tf.test.is_gpu_available())\n",
    "print(tf.test.is_built_with_cuda())"
   ]
  },
  {
   "cell_type": "code",
   "execution_count": null,
   "metadata": {},
   "outputs": [],
   "source": []
  },
  {
   "cell_type": "code",
   "execution_count": null,
   "metadata": {},
   "outputs": [],
   "source": []
  }
 ]
}