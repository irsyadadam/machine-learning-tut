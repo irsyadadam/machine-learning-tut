{
 "cells": [
  {
   "cell_type": "code",
   "execution_count": 1,
   "source": [
    "#author: Irsyad Adam"
   ],
   "outputs": [],
   "metadata": {}
  },
  {
   "cell_type": "code",
   "execution_count": 1,
   "source": [
    "import dgl\r\n",
    "import torch\r\n",
    "import torch.nn as nn\r\n",
    "import torch.nn.functional as F"
   ],
   "outputs": [
    {
     "output_type": "stream",
     "name": "stderr",
     "text": [
      "Using backend: pytorch\n"
     ]
    }
   ],
   "metadata": {}
  },
  {
   "cell_type": "markdown",
   "source": [
    "## Loading Cora Dataset"
   ],
   "metadata": {}
  },
  {
   "cell_type": "code",
   "execution_count": 2,
   "source": [
    "import dgl.data\r\n",
    "\r\n",
    "dataset = dgl.data.CoraGraphDataset()\r\n",
    "print('Number of categories:', dataset.num_classes)"
   ],
   "outputs": [
    {
     "output_type": "stream",
     "name": "stdout",
     "text": [
      "Downloading C:\\Users\\irsya\\.dgl\\cora_v2.zip from https://data.dgl.ai/dataset/cora_v2.zip...\n",
      "Extracting file to C:\\Users\\irsya\\.dgl\\cora_v2\n",
      "Finished data loading and preprocessing.\n",
      "  NumNodes: 2708\n",
      "  NumEdges: 10556\n",
      "  NumFeats: 1433\n",
      "  NumClasses: 7\n",
      "  NumTrainingSamples: 140\n",
      "  NumValidationSamples: 500\n",
      "  NumTestSamples: 1000\n",
      "Done saving data into cached files.\n",
      "Number of categories: 7\n"
     ]
    }
   ],
   "metadata": {}
  },
  {
   "cell_type": "code",
   "execution_count": 10,
   "source": [
    "graph = dataset[0]\r\n",
    "print(graph)"
   ],
   "outputs": [
    {
     "output_type": "stream",
     "name": "stdout",
     "text": [
      "Graph(num_nodes=2708, num_edges=10556,\n",
      "      ndata_schemes={'train_mask': Scheme(shape=(), dtype=torch.bool), 'val_mask': Scheme(shape=(), dtype=torch.bool), 'test_mask': Scheme(shape=(), dtype=torch.bool), 'label': Scheme(shape=(), dtype=torch.int64), 'feat': Scheme(shape=(1433,), dtype=torch.float32)}\n",
      "      edata_schemes={})\n"
     ]
    }
   ],
   "metadata": {}
  },
  {
   "cell_type": "markdown",
   "source": [
    "## Building Multi - Layer GCN\r\n",
    "\r\n",
    "Each layer computes new node representations by aggregating neighbor information\r\n",
    "\r\n",
    "To build a multi-layer GCN you can simply stack dgl.nn.GraphConv modules, which inherit torch.nn.Module()"
   ],
   "metadata": {}
  },
  {
   "cell_type": "code",
   "execution_count": 15,
   "source": [
    "from dgl.nn import GraphConv\r\n",
    "\r\n",
    "class GCN(nn.Module):\r\n",
    "    def __init__(self, in_feats: list, h_feats: list, num_classes: int) -> None:\r\n",
    "        \"\"\"\r\n",
    "        @param in_feats is the input\r\n",
    "        @param h_feats is ???\r\n",
    "        @param num_classes is the number of classes that the model \r\n",
    "        \"\"\"\r\n",
    "        #create the initialization of the GCN\r\n",
    "        super(GCN, self).__init__()\r\n",
    "\r\n",
    "        #2 layers, graph conv\r\n",
    "        #first layer is the basic layer, takes in fteauts, spits out h features\r\n",
    "        self.conv1 = GraphConv(in_feats, h_feats)\r\n",
    "        #second layer takes in the output of first and spits out num of classes\r\n",
    "        self.conv2 = GraphConv(h_feats, num_classes)\r\n",
    "\r\n",
    "    def forward(self, g, in_feats: int):\r\n",
    "        #gets called every instance of the class\r\n",
    "        h = self.conv1(g, in_feats)\r\n",
    "        f = F.relu(h)\r\n",
    "        h = self.conv2\r\n",
    "        return h\r\n",
    "\r\n",
    "#creat the model\r\n",
    "model = GCN(graph.ndata[\"feat\"].shape[1], 16, dataset.num_classes)"
   ],
   "outputs": [],
   "metadata": {}
  },
  {
   "cell_type": "code",
   "execution_count": 19,
   "source": [
    "print(\"num classes:\",  dataset.num_classes)\r\n",
    "print(graph.ndata[\"feat\"].shape[1])"
   ],
   "outputs": [
    {
     "output_type": "stream",
     "name": "stdout",
     "text": [
      "num classes: 7\n",
      "1433\n"
     ]
    }
   ],
   "metadata": {}
  },
  {
   "cell_type": "code",
   "execution_count": null,
   "source": [
    "def train(g, model):\r\n",
    "    "
   ],
   "outputs": [],
   "metadata": {}
  }
 ],
 "metadata": {
  "orig_nbformat": 4,
  "language_info": {
   "name": "python",
   "version": "3.8.3",
   "mimetype": "text/x-python",
   "codemirror_mode": {
    "name": "ipython",
    "version": 3
   },
   "pygments_lexer": "ipython3",
   "nbconvert_exporter": "python",
   "file_extension": ".py"
  },
  "kernelspec": {
   "name": "python3",
   "display_name": "Python 3.8.3 64-bit ('base': conda)"
  },
  "interpreter": {
   "hash": "da9952b49cbe8d96f4cd94137675a40eefb933987d5b5eb67fec8d17888ef93b"
  }
 },
 "nbformat": 4,
 "nbformat_minor": 2
}